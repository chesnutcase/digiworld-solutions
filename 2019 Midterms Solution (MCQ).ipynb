{
 "cells": [
  {
   "cell_type": "markdown",
   "metadata": {},
   "source": [
    "# 2019 Midterms Solution (MCQ)\n",
    "This notebook contains annotated solution to the conceptual questions in the 2019 Midterm.\n",
    "## **DO NOT DISTRIBUTE!**\n",
    "In the spirit of collaborative learning the faculty has banned uploading solutions to places like Github or Google Drive. Distributing answers in chat is still a grey area, so please only distribute to closed circles."
   ]
  },
  {
   "cell_type": "markdown",
   "metadata": {},
   "source": [
    "---\n",
    "## Q1\n",
    "Take a look at a code snippet below that contains a function that can compute an area of a circle. What will be the output of the code when it is run?"
   ]
  },
  {
   "cell_type": "code",
   "execution_count": null,
   "metadata": {},
   "outputs": [],
   "source": [
    "def area_of_circle(radius):\n",
    "    return 3.14159 * radius * radius\n",
    "\n",
    "r = int(input(\"Key in the value of radius:\"))\n",
    "area = area_of_circle(r)\n",
    "print(type(area))"
   ]
  },
  {
   "cell_type": "markdown",
   "metadata": {},
   "source": [
    "1. `class <'float'>`\n",
    "2. `class <'int'>`\n",
    "3. `class <'str'>`\n",
    "4. `class <'bool'>`"
   ]
  },
  {
   "cell_type": "markdown",
   "metadata": {},
   "source": [
    "Answer: **1** (`class <'float'>`)\n",
    "\n",
    "A `float` multiplied by an `int` will still give you a `float` (line 2)."
   ]
  },
  {
   "cell_type": "markdown",
   "metadata": {},
   "source": [
    "---\n",
    "## Q2\n",
    "A student adds minor modification to the code by storing the return value of the function to a variable called area and suggests 5 different print methods:"
   ]
  },
  {
   "cell_type": "code",
   "execution_count": null,
   "metadata": {},
   "outputs": [],
   "source": [
    "def area_of_circle(radius):\n",
    "    return 3.14159 * radius * radius\n",
    "\n",
    "r = int(input(\"Key in the value of radius:\"))\n",
    "area = area_of_circle(r)\n",
    "\n",
    "print('The area of the circle is: area')                     ## 1\n",
    "print('The area of the circle is: {0:.3f}'.format(area))     ## 2\n",
    "print('The area of the circle is: {:.3f}'.format(r))         ## 3\n",
    "print('The area of the circle is: {:1.3f}'.format(area))     ## 4\n",
    "print('The area of the circle is: {area:1.3f}'.format(area)) ## 5"
   ]
  },
  {
   "cell_type": "markdown",
   "metadata": {},
   "source": [
    "When the code is run, which of the print methods will have **the exact same output** when r = 5?"
   ]
  },
  {
   "cell_type": "markdown",
   "metadata": {},
   "source": [
    "1. 1 and 2\n",
    "2. 2 and 4\n",
    "3. 2, 3 and 5\n",
    "4. 2, 4 and 5\n",
    "5. 3, 2 and 4"
   ]
  },
  {
   "cell_type": "markdown",
   "metadata": {},
   "source": [
    "Answer: **2** (2 and 4)\n",
    "\n",
    "In `str.format()` the general use case of the placeholder brackets (`{}`) is `{<min-width>:.<round to x dp>f}` for floats. The rounding can cause your resulting string to occupy more space than the min-width specified.\n",
    "\n",
    "Explanation for each one:\n",
    "1. You're not doing any string formatting here.\n",
    "2. This will produce `78.540`, because you rounded it to 3dp with `{:.3f}`\n",
    "3. This is fucked up shit, don't try putting numbers directly before the `.` in `{:1.3f}`\n",
    "4. This will also produce `78.540`. You rounded it to 3dp with the `3f`, and specified a minimum width of `1`. The minimum width is \"ignored\" here, as your resulting float-turned-string will overflow to take up 6 characters ( `7` `8` `.` `5` `4` `0` ). If the minimum width was something larger like `10`, then it *would* produce a different result.\n",
    "5. This will cause an error. By default your placeholder variables are indexed by numbers, so the first argument you pass to `.format()` will be placed in the first `{}` in the formatting string. There are ways to change how the arguments are mapped to your placeholder `{}`s, but this is the wrong way to do it.\n",
    "\n",
    "[This](https://pyformat.info/) site provides a great summary on the `str.format()` function."
   ]
  },
  {
   "cell_type": "markdown",
   "metadata": {},
   "source": [
    "---\n",
    "## Q3\n",
    "The student decides that the r should be able to take in *float* values as well, and therefore made the following modification:"
   ]
  },
  {
   "cell_type": "code",
   "execution_count": null,
   "metadata": {},
   "outputs": [],
   "source": [
    "def area_of_circle(radius):\n",
    "    return 3.14159 * radius * radius\n",
    "\n",
    "r = float(input(\"Key in the value of radius:\"))\n",
    "area = area_of_circle(r)\n",
    "print(area)"
   ]
  },
  {
   "cell_type": "markdown",
   "metadata": {},
   "source": [
    "Upon running the program, the prompt\n",
    "```\n",
    "Key in the value of radius:\n",
    "```\n",
    "appears, and the student entered: `1/4`\n",
    "\n",
    "*Note that this means one-quarter*. Select all statements that are **true and/or will happen**"
   ]
  },
  {
   "cell_type": "markdown",
   "metadata": {},
   "source": [
    "1. After pressing enter, the program will result in **error**\n",
    "2. After pressing enter, the program will execute successfully and prints: `0.196349375`\n",
    "3. After pressing enter, the program will execute successfully and prints: `0.196`\n",
    "4. The function `float` does not recognise '/' as division between 1 and 4"
   ]
  },
  {
   "cell_type": "markdown",
   "metadata": {},
   "source": [
    " Answer: **1 and 4**\n",
    " \n",
    " The `float()` casting function can only cast strings that look like a floating point number: `3.1412` with optional `+` or `-`. Trying to pass an expression like `1/4` or `1*0.3` will result in a `ValueError`. More info [here](https://docs.python.org/3/library/functions.html#float)"
   ]
  },
  {
   "cell_type": "markdown",
   "metadata": {},
   "source": [
    "---\n",
    "## Q4\n",
    "It is suggested that we can just print out the area of the circle inside the function, instead of heaving to return them, and both ways will do the same calculation of the area of circle. Take a look at the code snippet below:"
   ]
  },
  {
   "cell_type": "code",
   "execution_count": null,
   "metadata": {},
   "outputs": [],
   "source": [
    "def area_of_circle_1(radius):\n",
    "    return 3.14159 * radius * radius\n",
    "\n",
    "def area_of_circle_2(radius):\n",
    "    print(3.14159 * radius * radius)\n",
    "\n",
    "r = float(input(\"Key in the value of radius:\"))\n",
    "area_1 = area_of_circle_1(r)\n",
    "area_2 = area_of_circle_2(r)\n",
    "\n",
    "print(area_1 == area_2)"
   ]
  },
  {
   "cell_type": "markdown",
   "metadata": {},
   "source": [
    "What will be the output of `print(area_1 == area_2)`, assuming `r` is a valid float value?"
   ]
  },
  {
   "cell_type": "markdown",
   "metadata": {},
   "source": [
    "1. True\n",
    "2. False\n",
    "3. None\n",
    "4. Error"
   ]
  },
  {
   "cell_type": "markdown",
   "metadata": {},
   "source": [
    "Answer: **2** (False)\n",
    "\n",
    "This is syntatically valid code that will not throw an error. Note that, for the second function, there is no `return` statement. The return value of `area_of_circle_2` will thus be `None`. Even if you wrote `return print(something)`, the return value of `print()` is `None`, so the function will return `None`.\n",
    "\n",
    "The only thing that can equal to `None` is `None` itself, so the answer is \"False\".\n",
    "\n",
    "---\n",
    "### Tip!\n",
    "From this example you can probably see that using `print()` inside your function that does only calculations to return the answer is probably not a good idea as it inhibits good code reuse."
   ]
  },
  {
   "cell_type": "markdown",
   "metadata": {},
   "source": [
    "---\n",
    "## Q5\n",
    "Notice that we hardcode the value of π, which is an irrational number, to compute the area of circle. The python `math` module contains the constant `pi` which contains a way more accurate representation of the value π than `3.14159`.\n",
    "\n",
    "One of the ways to use pi from the math module is as follows:"
   ]
  },
  {
   "cell_type": "code",
   "execution_count": null,
   "metadata": {},
   "outputs": [],
   "source": [
    "## [1]\n",
    "def area_of_circle(radius):\n",
    "    return pi * radius * radius\n",
    "\n",
    "r = float(input(\"Key in the value of radius:\"))\n",
    "## [2]\n",
    "area = area_of_circle(r)\n",
    "print(area)"
   ]
  },
  {
   "cell_type": "markdown",
   "metadata": {},
   "source": [
    "Select **ALL** import methods below that will allow us to use `pi` directly from the math module as the above and run the program smoothly without any error."
   ]
  },
  {
   "cell_type": "markdown",
   "metadata": {},
   "source": [
    "1. `from math import *` placed at location marked as [1]\n",
    "2. `from math import pi` placed at location marked as [2]\n",
    "3. `import math` placed at location marked as [1]\n",
    "4. `import math as pi` placed at location marked as [1]\n",
    "5. `import math as *` placed at location marked as [2]"
   ]
  },
  {
   "cell_type": "markdown",
   "metadata": {},
   "source": [
    "Answer: **1 and 2**\n",
    "\n",
    "The `import` statement works two ways depending on how you use it:\n",
    "1. If you do not specify `from`, a `import` imports a **module**, followed by an optional alias `as`\n",
    "2. If you specify `from`, a `import` imports a **child class/function/object/variable** *directly into the current namespace*, followed by an optional alias `as`. You can place an asterisk after `import` to denote you want to import **everything**.\n",
    "\n",
    "Method 1 will import the entire module, but you will not be able to access what's inside directly without using the dot operator (`some_module.some_function()`).\n",
    "\n",
    "Method 2 will let you import only some parts of the module that you want, but it will import directly into your namespace so you do not have to do `some_module.some_function()`. However, since it lives in the same namespace as your code, it may cause variable name conflicts (e.g. `from math import pi`, then you are not allowed to use the name `pi` in later parts of your code).\n",
    "\n",
    "Options 3, 4, 5 belong to the second method described above, but the question wants `pi` to be accessible without using the dot operator. In addition, option 5 **will produce an error**, as `*` is not a valid alias name (same rules for variable names)\n",
    "\n",
    "Option 1 and 2 will both make `pi` available to use directly, but option 1 will import not just `pi` but *everything in the module*. This is a generally a recipe for disaster as you have no idea what you're importing (unless you memorise everything on [this](https://docs.python.org/3/library/math.html) page).\n",
    "\n",
    "---\n",
    "### Note\n",
    "From point 1 above, you should also discern that import statements like `import math.pi` is syntatically **invalid**. "
   ]
  },
  {
   "cell_type": "markdown",
   "metadata": {},
   "source": [
    "---\n",
    "## Q6\n",
    "An alternative way of finding out the value of π is by using a method called **Monte Carlo**. In simple terms, we can randomly select N points (x<sub>i</sub>, y<sub>i</sub>) where i = 1, ...N in a unit square, and determine the ratio M/N, where M is the number of points that we can count that satisfy x<sub>i</sub><sup>2</sup> + y<sub>i</sub><sup>2</sup> ≤ 1. The approximate value of π is then 4*M/N.\n",
    "\n",
    "The following code below contains four implemented functions for you that will help you estimate the value of π using the Monte Carlo method"
   ]
  },
  {
   "cell_type": "code",
   "execution_count": null,
   "metadata": {},
   "outputs": [],
   "source": [
    "import random\n",
    "from math import *\n",
    "\n",
    "def estimate_pi(M,N):\n",
    "    return (M/N)*4\n",
    "\n",
    "def generate_x_unitsquare(N):\n",
    "    x = []\n",
    "    random.seed(9001) # seed the random module to a constant so we get the same random value for each test for easier comparison\n",
    "    for i in range(0, N):\n",
    "        x.append(random.uniform(0,1))\n",
    "    return x\n",
    "\n",
    "def check_xy_inside_circle(x,y):\n",
    "    if ((pow(x,2) + pow(y,2)) <= 1):\n",
    "        return True\n",
    "    \n",
    "def generate_y_unitsquare(N):\n",
    "    y = []\n",
    "    for i in range(0, N):\n",
    "        y.append(random.uniform(0,1))\n",
    "    return y\n",
    "\n",
    "def montecarlo_estimate_pi(N):\n",
    "    ## your code here\n",
    "    pass"
   ]
  },
  {
   "cell_type": "markdown",
   "metadata": {},
   "source": [
    "**Select ALL correct implementation(s)** of `montecarlo_estimate_pi(N)` below, such that this function `return`s the estimated value π, where N is the number of points that we should sample from a unit square."
   ]
  },
  {
   "cell_type": "code",
   "execution_count": null,
   "metadata": {},
   "outputs": [],
   "source": [
    "# If you decide to run this cell, make sure you run the above cell first\n",
    "# 1\n",
    "def montecarlo_estimate_pi_1(N):\n",
    "    x = generate_x_unitsquare(N)\n",
    "    y = generate_y_unitsquare(N)\n",
    "    M = 0\n",
    "    for i in range(0, N, 1):\n",
    "        if check_xy_inside_circle(x[i], y[i]) == False:\n",
    "            M = M+1\n",
    "    return estimate_pi(N-M, N)\n",
    "# 2\n",
    "def montecarlo_estimate_pi_2(N):\n",
    "    x = generate_x_unitsquare(N)\n",
    "    y = generate_y_unitsquare(N)\n",
    "    M = 0\n",
    "    for i in range(0, N):\n",
    "        if check_xy_inside_circle(x[i], y[i]) == True:\n",
    "            M = M+1\n",
    "    return estimate_pi(M, N)\n",
    "# 3\n",
    "def montecarlo_estimate_pi_3(N):\n",
    "    x = generate_x_unitsquare(N)\n",
    "    y = generate_y_unitsquare(N)\n",
    "    M = 0\n",
    "    for i in range(0, N):\n",
    "        if check_xy_inside_circle(x[i], y[i]):\n",
    "            M = M+1\n",
    "    return estimate_pi(M, N)\n",
    "# 4\n",
    "def montecarlo_estimate_pi_4(N):\n",
    "    x = generate_x_unitsquare(N)\n",
    "    y = generate_y_unitsquare(N)\n",
    "    M = 0\n",
    "    for i in range(0, N, 1):\n",
    "        if check_xy_inside_circle(x[i], y[i]) == False:\n",
    "            M = M+1\n",
    "    print(estimate_pi(N-M, N))"
   ]
  },
  {
   "cell_type": "markdown",
   "metadata": {},
   "source": [
    "Answer: **2 and 3**\n",
    "\n",
    "At first glance, you can tell that implementation 4 is not what we want, because it does not have a return value and it will always return `None`. Our question specifically asks for the function to *return* the approximation.\n",
    "\n",
    "Now we examine the algorithms behind the implementations. Implementations 2 and 3 are actually identical: the `if` statement itself already compares the expression to `True`, so doing `if (expr) == True:` is the same as `if (expr):`, and `if (expr) == False:` is the same as `if not (expr):`. Other than this small difference, the implementations of Monte Carlo is exactly what the question asked for.\n",
    "\n",
    "Implementation 1 is a trick answer. By inverting the condition (`== False`), you might be quick to immediately conclude that the implementation is wrong, but if you take a look at the return statement, he is actually passing `N-M` to `estimate_pi()`. Thus, logically, the final value of the argument that he passes to `estimate_pi()` is still the points *that lie in the circle*, because in this case he took `M` as *points that do not lie in the circle*.\n",
    "\n",
    "... Except, it didn't actually invert the condition properly. If the function `check_xy_inside_circle()` **did return False**, then it would work – but it DOES NOT! Look at the function definition of `check_xy_inside_circle()` above. The only non-None return value of the function is `True`, there is no `return False`. The function actually returns `None` if the point does not lie in the circle, and since the only thing `None` can be equal to is `None` itself, `None == False` would be `False`, and the implementation would fail. This implementation would be correct if not for the poorly written `check_xy_inside_circle()` function.\n",
    "\n",
    "You can run the cell below to see the actual outputs of each implementation:"
   ]
  },
  {
   "cell_type": "code",
   "execution_count": null,
   "metadata": {},
   "outputs": [],
   "source": [
    "# run the above two cells first!\n",
    "answers = []\n",
    "answers.append(montecarlo_estimate_pi_1(100))\n",
    "answers.append(montecarlo_estimate_pi_2(100))\n",
    "answers.append(montecarlo_estimate_pi_3(100))\n",
    "answers.append(montecarlo_estimate_pi_4(100))\n",
    "print(\"Answers: \")\n",
    "for answer in answers:\n",
    "    print(answer)"
   ]
  },
  {
   "cell_type": "markdown",
   "metadata": {},
   "source": [
    "---\n",
    "### Moral of the story\n",
    "Everytime you call a function, **make sure you know what it returns!** Examine the function and find **all the possible exit points** (places there is no more code left to be run, or an early `return`). **Do not leave an exit point with no `return` statement** as it will confuse you later and make you think that the function will not return `None`.\n",
    "\n",
    "In the example above, `check_xy_inside_circle()` has *two* return points, one exits early inside the `if` block, and the normal exit point after the `if` statement if the program does not enter the `if` block. The normal exit point has no explicit `return` statement so it returns `None` by default."
   ]
  },
  {
   "cell_type": "markdown",
   "metadata": {},
   "source": [
    "---\n",
    "## Q7\n",
    "As the case with many methods of estimation, it is not enough to perform monte-carlo simulation once to get the estimated value of π. A typical procedure is to run the simulation many times. We collected a ten thousand estimated values of π from the monte-carlo method, and then we want to write to the contents of the pi values array into a **new** `.txt` file, where each element in the array is separated by a comma. The folloinwg code snippet attempts to do that:"
   ]
  },
  {
   "cell_type": "code",
   "execution_count": null,
   "metadata": {},
   "outputs": [],
   "source": [
    "# run cells in Q6, and fill up the `montecarlo_estimate_pi()` function before running this cell\n",
    "pi_values = []\n",
    "for i in range(1,100):\n",
    "    pi_values.append(montecarlo_estimate_pi(1000))\n",
    "    \n",
    "filename = \"pivalues.txt\"\n",
    "# original question:\n",
    "# file = open(filename, '[A]')\n",
    "# changed to allow you to see how the code runs here\n",
    "file = open(filename, input(\"What should you put here? Do not put quotation marks\")) ## Question\n",
    "\n",
    "for item in pi_values:\n",
    "    file.write(str(item))\n",
    "    file.write(\"\\n\")\n",
    "    \n",
    "file.close()"
   ]
  },
  {
   "cell_type": "markdown",
   "metadata": {},
   "source": [
    "Run the above cell and give your answer exactly without quotes in the input box, then hit enter."
   ]
  },
  {
   "cell_type": "markdown",
   "metadata": {},
   "source": [
    "Answer: **`w`**\n",
    "\n",
    "When you open a file, Python needs to know what you're going to do with the file, hence the need for \"file modes\", passed as a string.\n",
    "\n",
    "`'r'` stands for <b>r</b>ead, `'w'` stands for <b>w</b>rite, `'a'` stands for <b>a</b>ppend.\n",
    "\n",
    "Trying to write to a file opened in read-only will result to an error.\n",
    "\n",
    "Writing to a existing file in write-mode will **replace the entire contents of the file after your first write**.\n",
    "\n",
    "\"Append\" saves the preserves the original data in the file, and simply adds new data at the end of the file.\n",
    "\n",
    "There are other, less commonly used file modes that can be read in detail [here](https://docs.python.org/3/library/functions.html#open)"
   ]
  },
  {
   "cell_type": "code",
   "execution_count": null,
   "metadata": {},
   "outputs": [],
   "source": []
  }
 ],
 "metadata": {
  "kernelspec": {
   "display_name": "Python 3",
   "language": "python",
   "name": "python3"
  },
  "language_info": {
   "codemirror_mode": {
    "name": "ipython",
    "version": 3
   },
   "file_extension": ".py",
   "mimetype": "text/x-python",
   "name": "python",
   "nbconvert_exporter": "python",
   "pygments_lexer": "ipython3",
   "version": "3.7.2"
  }
 },
 "nbformat": 4,
 "nbformat_minor": 2
}
